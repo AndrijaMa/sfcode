{
 "metadata": {
  "kernelspec": {
   "display_name": "Streamlit Notebook",
   "name": "streamlit"
  }
 },
 "nbformat_minor": 5,
 "nbformat": 4,
 "cells": [
  {
   "cell_type": "markdown",
   "id": "3097bc59-01c2-43e2-932c-a1210b9a9998",
   "metadata": {
    "name": "Welcome",
    "collapsed": false
   },
   "source": "# Working with JSON files from S3 in Snowflake"
  },
  {
   "cell_type": "code",
   "id": "3775908f-ca36-4846-8f38-5adca39217f2",
   "metadata": {
    "language": "python",
    "name": "python_libraries",
    "collapsed": false,
    "codeCollapsed": false
   },
   "source": "# Import python packages\nimport streamlit as st\n\n# Snowpark Pandas API\n#import modin.pandas as spd\n# Import the Snowpark pandas plugin for modin\n#import snowflake.snowpark.modin.plugin\n\n# We can also use Snowpark for our analyses!\nfrom snowflake.snowpark.context import get_active_session\nsession = get_active_session()\nimport snowflake.snowpark.functions as F",
   "execution_count": null,
   "outputs": []
  },
  {
   "cell_type": "markdown",
   "id": "a596cf91-e1f8-4f7b-9ecf-6e0a4e5cfb6f",
   "metadata": {
    "name": "cell8",
    "collapsed": false
   },
   "source": "List files located on AWS S3 bucket "
  },
  {
   "cell_type": "code",
   "id": "8c8dcd7e-f539-4adc-9555-9e1f473828f6",
   "metadata": {
    "language": "sql",
    "name": "list_s3_bucket",
    "codeCollapsed": false
   },
   "outputs": [],
   "source": "--List files located on S3 bucket \nlist @citibike_trips_json",
   "execution_count": null
  },
  {
   "cell_type": "markdown",
   "id": "53325e26-d98f-4318-a75b-fb97785ab03e",
   "metadata": {
    "name": "cell35",
    "collapsed": false
   },
   "source": "### Read comressed JSON from AWS S3"
  },
  {
   "cell_type": "code",
   "id": "8d50cbf4-0c8d-4950-86cb-114990437ac9",
   "metadata": {
    "language": "python",
    "name": "read_json_file_from_s3",
    "codeCollapsed": false
   },
   "source": "json_file_raw = session.read.option(\"file_format\", \"json\").\\\njson('@citibike_trips_json/2015-09-01/data_01a304b5-0601-4bbe-0045-e8030021523e_005_1_0.json.gz')",
   "execution_count": null,
   "outputs": []
  },
  {
   "cell_type": "markdown",
   "id": "59a2ebf3-224d-4065-bd95-7f3be2ee8b11",
   "metadata": {
    "name": "json_preview",
    "collapsed": false
   },
   "source": "### Preview the JSON file"
  },
  {
   "cell_type": "code",
   "id": "c695373e-ac74-4b62-a1f1-08206cbd5c81",
   "metadata": {
    "language": "python",
    "name": "cell3",
    "codeCollapsed": false
   },
   "source": "json_file_raw.show(1)",
   "execution_count": null,
   "outputs": []
  },
  {
   "cell_type": "markdown",
   "id": "6f73f202-e7ec-4890-ade0-62eb21a6ab57",
   "metadata": {
    "name": "create_dataframe",
    "collapsed": false
   },
   "source": "### Adding the data from the JSON file to a DataFrame \\\nUsing . notation to navigate the JSON file and adding data types to the data\n"
  },
  {
   "cell_type": "code",
   "id": "d828e2a7-9729-4679-a6b4-5311bbb109fe",
   "metadata": {
    "language": "python",
    "name": "cell5",
    "codeCollapsed": false
   },
   "outputs": [],
   "source": "json_file_raw_df = json_file_raw.select(\n    F.to_varchar(json_file_raw[\"$1\"][\"BIKE\"][\"BIKEID\"]).as_(\"BIKE_ID\"), \n    F.to_varchar(json_file_raw[\"$1\"][\"BIKE\"][\"BIKE_TYPE\"]).as_(\"BIKE_TYPE\"),  \n    F.to_timestamp(json_file_raw[\"$1\"][\"ENDTIME\"]).as_(\"END_TIME\"),\n    F.to_varchar(json_file_raw[\"$1\"][\"END_STATION_ID\"]).as_(\"END_STATION_ID\"),\n    F.to_varchar(json_file_raw[\"$1\"][\"RIDER\"][\"DOB\"]).as_(\"DOB\"),\n    F.to_varchar(json_file_raw[\"$1\"][\"RIDER\"][\"EMAIL\"]).as_(\"EMAIL\"),\n    F.to_varchar(json_file_raw[\"$1\"][\"RIDER\"][\"FIRST_NAME\"]).as_(\"FIRST_NAME\"),\n    F.to_varchar(json_file_raw[\"$1\"][\"RIDER\"][\"GENDER\"]).as_(\"GENDER\"),\n    F.to_varchar(json_file_raw[\"$1\"][\"RIDER\"][\"LAST_NAME\"]).as_(\"LAST_NAME\"),\n    F.to_varchar(json_file_raw[\"$1\"][\"RIDER\"][\"MEMBER_TYPE\"]).as_(\"MEMBER_TYPE\"),\n    F.to_varchar(json_file_raw[\"$1\"][\"RIDER\"][\"PAYMENT\"][\"CC_NUM\"]).as_(\"PAYMENT_CC_NUM\"),\n    F.to_varchar(json_file_raw[\"$1\"][\"RIDER\"][\"PAYMENT\"][\"CC_TYPE\"]).as_(\"PAYMENT_CC_TYPE\"),\n    F.to_varchar(json_file_raw[\"$1\"][\"RIDER\"][\"PAYMENT\"][\"TYPE\"]).as_(\"PAYMENT_TYPE\"),\n    F.to_varchar(json_file_raw[\"$1\"][\"RIDER\"][\"RIDERID\"]).as_(\"RIDER_ID\"),\n    F.to_timestamp(json_file_raw[\"$1\"][\"STARTTIME\"]).as_(\"START_TIME\"),\n    F.to_varchar(json_file_raw[\"$1\"][\"START_STATION_ID\"]).as_(\"START_STATION_ID\")\n                )\njson_file_raw_df.show(5)",
   "execution_count": null
  },
  {
   "cell_type": "markdown",
   "id": "c4331a04-605f-4b6f-833d-6b653fdf681c",
   "metadata": {
    "name": "cell9",
    "collapsed": false
   },
   "source": "Cound number of rows in the dataframe"
  },
  {
   "cell_type": "code",
   "id": "053310ee-708c-4590-9fd3-8983ab1e3b96",
   "metadata": {
    "language": "python",
    "name": "count_number_of_rows",
    "codeCollapsed": false
   },
   "outputs": [],
   "source": "json_file_raw_df.count()",
   "execution_count": null
  },
  {
   "cell_type": "markdown",
   "id": "5da4a741-5c5f-499b-910b-9bccd65d5197",
   "metadata": {
    "name": "cell37",
    "collapsed": false
   },
   "source": "### Same thing as before but using SQL instead of Python"
  },
  {
   "cell_type": "code",
   "id": "3b0d79bd-268c-43d1-befc-ae3529511565",
   "metadata": {
    "language": "sql",
    "name": "query_data_from_with_sql",
    "codeCollapsed": false
   },
   "outputs": [],
   "source": "select \n    $1:STARTTIME::timestamp_ntz starttime,\n    $1:ENDTIME::timestamp_ntz endtime,\n    datediff('minute', starttime, endtime) duration,\n    $1:START_STATION_ID::integer start_station_id,\n    $1:END_STATION_ID::integer end_station_id,\n    $1:BIKE.BIKEID::string bikeid,\n    $1:BIKE.BIKE_TYPE::string bike_type,\n    $1:RIDER.RIDERID::integer riderid,\n    $1:RIDER.FIRST_NAME::string || ' ' || $1:RIDER.LAST_NAME::string rider_name,\n    to_date($1:RIDER.DOB::string, 'YYYY-MM-DD') dob,\n    $1:RIDER.GENDER::string gender,\n    $1:RIDER.MEMBER_TYPE::string member_type,\n    $1:RIDER.PAYMENT.TYPE::string payment,\n    ifnull($1:RIDER.PAYMENT.CC_TYPE::string, \n      $1:RIDER.PAYMENT.PHONE_TYPE::string) payment_type,\n    ifnull($1:RIDER.PAYMENT.PHONE_NUM::string,\n      $1:RIDER.PAYMENT.CC_NUM::string) payment_num\nFROM\n    @citibike_trips_json/2015-09-01/data_01a304b5-0601-4bbe-0045-e8030021523e_005_1_0.json.gz \n    (file_format=>json) ;\n",
   "execution_count": null
  },
  {
   "cell_type": "markdown",
   "id": "a9cd8a89-fa85-408c-9748-857ab971795b",
   "metadata": {
    "name": "cell2",
    "collapsed": false
   },
   "source": "Filter the datadrame using start time"
  },
  {
   "cell_type": "code",
   "id": "a2e470cc-4a59-4b60-ad71-76d440c7f3e6",
   "metadata": {
    "language": "python",
    "name": "filter_data",
    "codeCollapsed": false
   },
   "outputs": [],
   "source": "json_file_raw_df.filter(F.to_timestamp(F.col(\"START_TIME\")) == '2015-09-27 21:54:00')",
   "execution_count": null
  },
  {
   "cell_type": "markdown",
   "id": "786424d7-a423-4f54-9a82-5c7e855c7f4e",
   "metadata": {
    "name": "cell1",
    "collapsed": false
   },
   "source": "### Create new column using Datediff to caclulate the trip duration of each ride"
  },
  {
   "cell_type": "code",
   "id": "00d89e5f-fcd7-4191-b786-0d6661785479",
   "metadata": {
    "language": "python",
    "name": "date_diff",
    "codeCollapsed": false
   },
   "outputs": [],
   "source": "json_file_raw_df.select(\n    F.col(\"RIDER_ID\"),\n    F.col(\"START_TIME\"),\n    F.col(\"END_TIME\"),\n    F.datediff(\"seconds\", F.col(\"START_TIME\"), F.col(\"END_TIME\")).as_(\"TRIP_DURATION\")\n           )",
   "execution_count": null
  },
  {
   "cell_type": "markdown",
   "id": "2485dc30-1963-4cf3-ac73-dcecdcaafb25",
   "metadata": {
    "name": "cell4",
    "collapsed": false
   },
   "source": "Calculate average trip duration in seconds per bike"
  },
  {
   "cell_type": "code",
   "id": "c200b34b-9b00-4d51-a948-d17bbc9ed28a",
   "metadata": {
    "language": "python",
    "name": "AVG_TRIP_DURATION_PER_BIKE_cell",
    "codeCollapsed": false
   },
   "outputs": [],
   "source": "json_file_raw_df.group_by(\n    F.col(\"BIKE_ID\")).agg(F.avg( \n    F.datediff(\"seconds\", F.col(\"START_TIME\"), F.col(\"END_TIME\"))).as_(\"AVG_TRIP_DURATION_PER_BIKE\"))",
   "execution_count": null
  },
  {
   "cell_type": "markdown",
   "id": "6e784115-8461-494d-9aab-a5d7d56bc794",
   "metadata": {
    "name": "cell6",
    "collapsed": false
   },
   "source": "Calculate average trip duration in seconds per bike per day"
  },
  {
   "cell_type": "code",
   "id": "2f1d71d1-fc0e-4a67-a278-a7630536181b",
   "metadata": {
    "language": "python",
    "name": "cell10",
    "codeCollapsed": false
   },
   "outputs": [],
   "source": "AVG_TRIPDURATION_PER_DAY = json_file_raw_df\\\n    .group_by(F.to_date(F.col(\"START_TIME\")), F.col(\"BIKE_ID\"))\\\n    .agg(F.avg(F.datediff(\"seconds\", F.col(\"START_TIME\"), F.col(\"END_TIME\"))).as_(\"AVG_TRIP_PER_DAY(SEC)\"))\\\n    .order_by(F.col(\"TO_DATE(START_TIME)\"))\n\nAVG_TRIPDURATION_PER_DAY",
   "execution_count": null
  },
  {
   "cell_type": "markdown",
   "id": "8133a061-810d-4e6b-bfc3-6aad98bfd4d0",
   "metadata": {
    "name": "cell7",
    "collapsed": false
   },
   "source": "Create Snowflake table from the Dataframe \\\nAlternative create Snowflake View or a Dynamic Table \\\nSchedule dynamic table to run on a schedule \\\nSchedule Notebook to create a table on a schedule"
  },
  {
   "cell_type": "code",
   "id": "2d661889-5c2d-4298-9d90-2864969b93c7",
   "metadata": {
    "language": "python",
    "name": "cell11",
    "codeCollapsed": false
   },
   "outputs": [],
   "source": "\nAVG_TRIPDURATION_PER_DAY.write.mode(\"overwrite\").save_as_table(\"AVG_TRIPDURATION_PER_DAY\")\n#AVG_TRIPDURATION_PER_DAY.create_or_replace_dynamic_table(\"AVG_TRIPDURATION_PER_DAY_DT\") \n#AVG_TRIPDURATION_PER_DAY.create_or_replace_view(\"AVG_TRIPDURATION_PER_DAY_VW\")\n",
   "execution_count": null
  },
  {
   "cell_type": "markdown",
   "id": "c94fcafb-e863-4d11-aa7e-1343c7629229",
   "metadata": {
    "name": "cell29",
    "collapsed": false
   },
   "source": "Query the new table using SQL"
  },
  {
   "cell_type": "code",
   "id": "81a3ea72-34ce-4ec6-916b-525df03a4110",
   "metadata": {
    "language": "sql",
    "name": "cell12",
    "codeCollapsed": false
   },
   "outputs": [],
   "source": "SELECT * FROM AVG_TRIPDURATION_PER_DAY;",
   "execution_count": null
  },
  {
   "cell_type": "markdown",
   "id": "6ea13c2f-cd44-4d7b-a1a1-82a2fa726d0a",
   "metadata": {
    "name": "cell33",
    "collapsed": false
   },
   "source": "Query the new table using Python"
  },
  {
   "cell_type": "code",
   "id": "9e344f6e-e3e9-4d18-a489-25105d169bc6",
   "metadata": {
    "language": "python",
    "name": "cell13",
    "codeCollapsed": false
   },
   "outputs": [],
   "source": "session.table('AVG_TRIPDURATION_PER_DAY')",
   "execution_count": null
  },
  {
   "cell_type": "markdown",
   "id": "30456dfb-330a-4361-b6bb-0a8b59efaf9d",
   "metadata": {
    "name": "FULL_DATASET",
    "collapsed": false
   },
   "source": "LOAD ALL DATA 41 695 813"
  },
  {
   "cell_type": "code",
   "id": "00d11504-3d5b-49c8-bd5e-589e68498a48",
   "metadata": {
    "language": "python",
    "name": "cell15",
    "codeCollapsed": false
   },
   "outputs": [],
   "source": "json_full_data_raw = session.read.option(\"file_format\", \"json\").json('@citibike_trips_json')\n",
   "execution_count": null
  },
  {
   "cell_type": "code",
   "id": "edd0acf4-135e-4ce8-b4ae-9a2958a799d8",
   "metadata": {
    "language": "python",
    "name": "cell16",
    "codeCollapsed": false
   },
   "outputs": [],
   "source": "json_full_data_raw.count()",
   "execution_count": null
  },
  {
   "cell_type": "code",
   "id": "e0204dfe-2bac-4307-9c49-a1b91fa64231",
   "metadata": {
    "language": "python",
    "name": "cell17"
   },
   "outputs": [],
   "source": "json_full_data_raw_df = json_full_data_raw.select(\n    F.to_varchar(json_full_data_raw[\"$1\"][\"BIKE\"][\"BIKEID\"]).as_(\"BIKE_ID\"), \n    F.to_varchar(json_full_data_raw[\"$1\"][\"BIKE\"][\"BIKE_TYPE\"]).as_(\"BIKE_TYPE\"),  \n    F.to_timestamp(json_full_data_raw[\"$1\"][\"ENDTIME\"]).as_(\"END_TIME\"),\n    F.to_varchar(json_full_data_raw[\"$1\"][\"END_STATION_ID\"]).as_(\"END_STATION_ID\"),\n    F.to_varchar(json_full_data_raw[\"$1\"][\"RIDER\"][\"DOB\"]).as_(\"DOB\"),\n    F.to_varchar(json_full_data_raw[\"$1\"][\"RIDER\"][\"EMAIL\"]).as_(\"EMAIL\"),\n    F.to_varchar(json_full_data_raw[\"$1\"][\"RIDER\"][\"FIRST_NAME\"]).as_(\"FIRST_NAME\"),\n    F.to_varchar(json_full_data_raw[\"$1\"][\"RIDER\"][\"GENDER\"]).as_(\"GENDER\"),\n    F.to_varchar(json_full_data_raw[\"$1\"][\"RIDER\"][\"LAST_NAME\"]).as_(\"LAST_NAME\"),\n    F.to_varchar(json_full_data_raw[\"$1\"][\"RIDER\"][\"MEMBER_TYPE\"]).as_(\"MEMBER_TYPE\"),\n    F.to_varchar(json_full_data_raw[\"$1\"][\"RIDER\"][\"PAYMENT\"][\"CC_NUM\"]).as_(\"PAYMENT_CC_NUM\"),\n    F.to_varchar(json_full_data_raw[\"$1\"][\"RIDER\"][\"PAYMENT\"][\"CC_TYPE\"]).as_(\"PAYMENT_CC_TYPE\"),\n    F.to_varchar(json_full_data_raw[\"$1\"][\"RIDER\"][\"PAYMENT\"][\"TYPE\"]).as_(\"PAYMENT_TYPE\"),\n    F.to_varchar(json_full_data_raw[\"$1\"][\"RIDER\"][\"RIDERID\"]).as_(\"RIDER_ID\"),\n    F.to_timestamp(json_full_data_raw[\"$1\"][\"STARTTIME\"]).as_(\"START_TIME\"),\n    F.to_varchar(json_full_data_raw[\"$1\"][\"START_STATION_ID\"]).as_(\"START_STATION_ID\")\n                )\njson_full_data_raw_df.show(5)",
   "execution_count": null
  },
  {
   "cell_type": "code",
   "id": "dea5c88e-8a6c-4f25-90eb-d9683ddcf544",
   "metadata": {
    "language": "sql",
    "name": "cell19",
    "codeCollapsed": false
   },
   "outputs": [],
   "source": "ALTER WAREHOUSE MYWH SET warehouse_size=XLARGE;",
   "execution_count": null
  },
  {
   "cell_type": "code",
   "id": "a11130ea-4137-4703-8e8d-b6f39ef0a356",
   "metadata": {
    "language": "sql",
    "name": "cell32",
    "codeCollapsed": false
   },
   "outputs": [],
   "source": "show warehouses like  'MYWH';",
   "execution_count": null
  },
  {
   "cell_type": "code",
   "id": "8ba13b9b-3672-4547-86b1-2256217a509b",
   "metadata": {
    "language": "python",
    "name": "cell21",
    "codeCollapsed": false
   },
   "outputs": [],
   "source": "AVG_TRIPDURATION_PER_DAY_FULL = json_full_data_raw_df\\\n    .group_by(F.to_date(F.col(\"START_TIME\")), F.col(\"BIKE_ID\"))\\\n    .agg(F.avg(F.datediff(\"seconds\", F.col(\"START_TIME\"), F.col(\"END_TIME\"))).as_(\"AVG_TRIP_PER_DAY(SEC)\"))\\\n    .order_by(F.col(\"TO_DATE(START_TIME)\"))\n\nAVG_TRIPDURATION_PER_DAY_FULL",
   "execution_count": null
  },
  {
   "cell_type": "code",
   "id": "b53d59e3-a680-4ae4-b09b-87604a149eee",
   "metadata": {
    "language": "python",
    "name": "cell22",
    "codeCollapsed": false
   },
   "outputs": [],
   "source": "AVG_TRIPDURATION_PER_DAY_FULL.write.mode(\"overwrite\").save_as_table(\"AVG_TRIPDURATION_PER_DAY_FULL\")",
   "execution_count": null
  },
  {
   "cell_type": "code",
   "id": "c6aa9dbf-1853-4e53-88e0-be0694713936",
   "metadata": {
    "language": "sql",
    "name": "cell23"
   },
   "outputs": [],
   "source": "SELECT * FROM AVG_TRIPDURATION_PER_DAY_FULL;",
   "execution_count": null
  },
  {
   "cell_type": "code",
   "id": "ddd74225-f1ca-47e1-8d56-d40728fc60f8",
   "metadata": {
    "language": "python",
    "name": "cell24"
   },
   "outputs": [],
   "source": "session.table(\"AVG_TRIPDURATION_PER_DAY_FULL\")",
   "execution_count": null
  },
  {
   "cell_type": "code",
   "id": "e8153839-c7f5-4dfc-9ab4-a019485fd8bd",
   "metadata": {
    "language": "sql",
    "name": "cell25"
   },
   "outputs": [],
   "source": "ALTER WAREHOUSE MYWH SET warehouse_size=SMALL;",
   "execution_count": null
  },
  {
   "cell_type": "code",
   "id": "152778f5-5880-4a6b-a12d-fc373bee4529",
   "metadata": {
    "language": "sql",
    "name": "cell26"
   },
   "outputs": [],
   "source": "ALTER WAREHOUSE MYWH SUSPEND;",
   "execution_count": null
  },
  {
   "cell_type": "code",
   "id": "0c65d3db-b2f3-4942-b2cb-7f6a5d090b94",
   "metadata": {
    "language": "python",
    "name": "cell27"
   },
   "outputs": [],
   "source": "json_full_data_raw_df.write.mode(\"overwrite\").save_as_table(\"json_full_data_raw_df\")\n#json_full_data_raw_df.create_or_replace_view(\"trips_vw\")",
   "execution_count": null
  },
  {
   "cell_type": "code",
   "id": "cb2d97e3-d6aa-4c4f-aa4f-5c623773d35d",
   "metadata": {
    "language": "sql",
    "name": "cell30",
    "codeCollapsed": false
   },
   "outputs": [],
   "source": "CREATE  VIEW trips_vw \n COMMENT='HISTORICAL TRIPS DATA'\n    AS\nSELECT \n    $1:STARTTIME::timestamp_ntz starttime,\n    $1:ENDTIME::timestamp_ntz endtime,\n    datediff('minute', starttime, endtime) duration,\n    $1:START_STATION_ID::integer start_station_id,\n    $1:END_STATION_ID::integer end_station_id,\n    $1:BIKE.BIKEID::string bikeid,\n    $1:BIKE.BIKE_TYPE::string bike_type,\n    $1:RIDER.RIDERID::integer riderid,\n    $1:RIDER.FIRST_NAME::string || ' ' || $1:RIDER.LAST_NAME::string rider_name,\n    to_date($1:RIDER.DOB::string, 'YYYY-MM-DD') dob,\n    $1:RIDER.GENDER::string gender,\n    $1:RIDER.MEMBER_TYPE::string member_type,\n    $1:RIDER.PAYMENT.TYPE::string payment,\n    ifnull($1:RIDER.PAYMENT.CC_TYPE::string, \n    $1:RIDER.PAYMENT.PHONE_TYPE::string) payment_type,\n    ifnull($1:RIDER.PAYMENT.PHONE_NUM::string,\n    $1:RIDER.PAYMENT.CC_NUM::string) payment_num\nFROM\n    @citibike_trips_json\n    (file_format=>json);\n",
   "execution_count": null
  },
  {
   "cell_type": "code",
   "id": "a3497e24-4b9f-4c43-a879-e7703e5c875d",
   "metadata": {
    "language": "sql",
    "name": "cell31"
   },
   "outputs": [],
   "source": "SELECT * FROM trips_vw LIMIT 100;",
   "execution_count": null
  },
  {
   "cell_type": "code",
   "id": "5004d2ed-24d4-457d-a130-b47f2f69af2f",
   "metadata": {
    "language": "sql",
    "name": "cell28"
   },
   "outputs": [],
   "source": "show warehouses like  'MYWH';",
   "execution_count": null
  }
 ]
}